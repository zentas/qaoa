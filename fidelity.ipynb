{
 "cells": [
  {
   "cell_type": "code",
   "execution_count": 1,
   "id": "527c153e",
   "metadata": {},
   "outputs": [],
   "source": [
    "import numpy as np\n",
    "\n",
    "import experiment_fid as expr"
   ]
  },
  {
   "attachments": {},
   "cell_type": "markdown",
   "id": "f8c9ab85",
   "metadata": {},
   "source": [
    "# Parameters"
   ]
  },
  {
   "cell_type": "code",
   "execution_count": 2,
   "id": "11bfce3d",
   "metadata": {},
   "outputs": [],
   "source": [
    "method = ('COBYLA', {'rhobeg': 1.2,\n",
    "                     'maxiter': 1000,\n",
    "                     'disp': False,\n",
    "                     'catol': 0.0002})"
   ]
  },
  {
   "attachments": {},
   "cell_type": "markdown",
   "id": "1c02f39f",
   "metadata": {},
   "source": [
    "# Fidelity"
   ]
  },
  {
   "cell_type": "code",
   "execution_count": 13,
   "id": "fbfaa158",
   "metadata": {},
   "outputs": [],
   "source": [
    "def fidelity_analysis(p, dim, density):\n",
    "    experiment = expr.ExperimentStatvecFid(p=p, \n",
    "                                  dim=dim,\n",
    "                                  method=method)\n",
    "\n",
    "    model = experiment.generate_model(dens=density)\n",
    "    return experiment.solve_and_compute_fid(model)"
   ]
  },
  {
   "cell_type": "code",
   "execution_count": 14,
   "id": "d0745e0d",
   "metadata": {},
   "outputs": [
    {
     "name": "stdout",
     "output_type": "stream",
     "text": [
      "[[1.00000000e+00 4.26733825e-01 1.52974878e-01 3.56638089e-02\n",
      "  1.34258456e-03 1.07273004e-03 2.06963064e-04 2.99140687e-05\n",
      "  2.33364570e-05]\n",
      " [4.26733825e-01 1.00000000e+00 5.77753454e-01 1.64937470e-01\n",
      "  2.79249968e-04 3.27377076e-03 3.17270281e-06 1.31294229e-05\n",
      "  2.77250604e-04]\n",
      " [1.52974878e-01 5.77753454e-01 1.00000000e+00 5.50106173e-01\n",
      "  1.28503279e-04 7.62482757e-03 1.91909166e-06 8.68401438e-06\n",
      "  9.10771714e-04]\n",
      " [3.56638089e-02 1.64937470e-01 5.50106173e-01 1.00000000e+00\n",
      "  7.01932911e-05 2.86090742e-02 4.29834980e-07 2.62246548e-06\n",
      "  1.19271722e-02]\n",
      " [1.34258456e-03 2.79249968e-04 1.28503279e-04 7.01932911e-05\n",
      "  1.00000000e+00 4.92503942e-06 1.12057096e-01 2.99107495e-05\n",
      "  8.40371026e-08]\n",
      " [1.07273004e-03 3.27377076e-03 7.62482757e-03 2.86090742e-02\n",
      "  4.92503942e-06 1.00000000e+00 3.26785997e-07 3.13596676e-06\n",
      "  1.18671215e-01]\n",
      " [2.06963064e-04 3.17270281e-06 1.91909166e-06 4.29834980e-07\n",
      "  1.12057096e-01 3.26785997e-07 1.00000000e+00 1.25206710e-06\n",
      "  7.28965969e-07]\n",
      " [2.99140687e-05 1.31294229e-05 8.68401438e-06 2.62246548e-06\n",
      "  2.99107495e-05 3.13596676e-06 1.25206710e-06 1.00000000e+00\n",
      "  3.77387405e-04]\n",
      " [2.33364570e-05 2.77250604e-04 9.10771714e-04 1.19271722e-02\n",
      "  8.40371026e-08 1.18671215e-01 7.28965969e-07 3.77387405e-04\n",
      "  1.00000000e+00]]\n"
     ]
    }
   ],
   "source": [
    "fid = fidelity_analysis(8, 15, 0.4)\n",
    "print(fid)"
   ]
  },
  {
   "cell_type": "code",
   "execution_count": 43,
   "id": "1168335c",
   "metadata": {},
   "outputs": [
    {
     "data": {
      "text/plain": [
       "<BarContainer object of 6 artists>"
      ]
     },
     "execution_count": 43,
     "metadata": {},
     "output_type": "execute_result"
    },
    {
     "data": {
      "image/png": "[encoded data removed]",
      "text/plain": [
       "<Figure size 640x480 with 1 Axes>"
      ]
     },
     "metadata": {},
     "output_type": "display_data"
    }
   ],
   "source": [
    "fidelity = [avg_fid[i + 1, i] for i in range(6)]\n",
    "\n",
    "import matplotlib.pyplot as plt\n",
    "fig, ax = plt.subplots()\n",
    "ax.set_yscale('log')\n",
    "plt.xlabel(\"слой схемы\")\n",
    "plt.ylabel(\"fidelity\")\n",
    "plt.bar(range(6), fidelity)"
   ]
  },
  {
   "cell_type": "code",
   "execution_count": 39,
   "id": "20c85352",
   "metadata": {},
   "outputs": [],
   "source": [
    "fids = [fidelity_analysis(6, 7, 0.4) for i in range(30)]"
   ]
  },
  {
   "cell_type": "code",
   "execution_count": 40,
   "id": "e591a568",
   "metadata": {},
   "outputs": [],
   "source": [
    "# save_fids = fids\n",
    "avg_fid = sum(fids)/20"
   ]
  }
 ],
 "metadata": {
  "celltoolbar": "Отсутствует",
  "kernelspec": {
   "display_name": "quantum_default",
   "language": "python",
   "name": "python3"
  },
  "language_info": {
   "codemirror_mode": {
    "name": "ipython",
    "version": 3
   },
   "file_extension": ".py",
   "mimetype": "text/x-python",
   "name": "python",
   "nbconvert_exporter": "python",
   "pygments_lexer": "ipython3",
   "version": "3.10.9"
  },
  "vscode": {
   "interpreter": {
    "hash": "2e17818f035e80f7f95adace365c188f6a6d93ece634688b17fbb498085b1ed6"
   }
  }
 },
 "nbformat": 4,
 "nbformat_minor": 5
}
