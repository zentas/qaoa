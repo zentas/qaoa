{
 "cells": [
  {
   "cell_type": "code",
   "execution_count": 1,
   "id": "527c153e",
   "metadata": {},
   "outputs": [],
   "source": [
    "import numpy as np\n",
    "\n",
    "import experiment_fid as expr"
   ]
  },
  {
   "attachments": {},
   "cell_type": "markdown",
   "id": "f8c9ab85",
   "metadata": {},
   "source": [
    "# Parameters"
   ]
  },
  {
   "cell_type": "code",
   "execution_count": 2,
   "id": "11bfce3d",
   "metadata": {},
   "outputs": [],
   "source": [
    "method = ('COBYLA', {'rhobeg': 1.2,\n",
    "                     'maxiter': 1000,\n",
    "                     'disp': False,\n",
    "                     'catol': 0.0002})"
   ]
  },
  {
   "attachments": {},
   "cell_type": "markdown",
   "id": "1c02f39f",
   "metadata": {},
   "source": [
    "# Fidelity"
   ]
  },
  {
   "cell_type": "code",
   "execution_count": 3,
   "id": "fbfaa158",
   "metadata": {},
   "outputs": [],
   "source": [
    "def fidelity_analysis(p, dim, density):\n",
    "    experiment = expr.ExperimentStatvecFid(p=p, \n",
    "                                  dim=5,\n",
    "                                  method=method)\n",
    "\n",
    "    model = experiment.generate_model(dens=density)\n",
    "    print(experiment.solve_and_compute_fid(model))"
   ]
  },
  {
   "cell_type": "code",
   "execution_count": 4,
   "id": "d0745e0d",
   "metadata": {},
   "outputs": [
    {
     "name": "stdout",
     "output_type": "stream",
     "text": [
      "[[1.         0.50385682 0.07012924]\n",
      " [0.50385682 1.         0.13532776]\n",
      " [0.07012924 0.13532776 1.        ]]\n"
     ]
    }
   ],
   "source": [
    "fidelity_analysis(2, 9, 0.4)"
   ]
  }
 ],
 "metadata": {
  "celltoolbar": "Отсутствует",
  "kernelspec": {
   "display_name": "base",
   "language": "python",
   "name": "python3"
  },
  "language_info": {
   "codemirror_mode": {
    "name": "ipython",
    "version": 3
   },
   "file_extension": ".py",
   "mimetype": "text/x-python",
   "name": "python",
   "nbconvert_exporter": "python",
   "pygments_lexer": "ipython3",
   "version": "3.8.8 (default, Apr 13 2021, 15:08:03) [MSC v.1916 64 bit (AMD64)]"
  },
  "vscode": {
   "interpreter": {
    "hash": "318e9e70ae1f424bae0f8b8d929ae9bbc15a1921416e4abae2647f802c5253a3"
   }
  }
 },
 "nbformat": 4,
 "nbformat_minor": 5
}
