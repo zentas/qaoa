{
 "cells": [
  {
   "cell_type": "code",
   "execution_count": null,
   "metadata": {},
   "outputs": [],
   "source": [
    "import networkx as nx"
   ]
  },
  {
   "cell_type": "code",
   "execution_count": null,
   "metadata": {},
   "outputs": [],
   "source": [
    "nodes = 3\n",
    "\n",
    "g = nx.Graph()\n",
    "for i in range(nodes): \n",
    "    g.add_node(i)\n",
    "g.add_edge(1,0, weight = 2)\n",
    "g.add_edge(1,2, weight = 3)\n",
    "g.add_edge(0,2, weight = 5)\n",
    "\n",
    "nx.draw(g, with_labels = True)"
   ]
  },
  {
   "cell_type": "code",
   "execution_count": null,
   "metadata": {},
   "outputs": [],
   "source": [
    "from qiskit import QuantumCircuit"
   ]
  },
  {
   "cell_type": "code",
   "execution_count": null,
   "metadata": {},
   "outputs": [],
   "source": [
    "def objective_function(bitstring, graph):\n",
    "    bitstring = [int(bit) for bit in bitstring]\n",
    "    for (u, v) in graph.edges():\n",
    "        "
   ]
  }
 ],
 "metadata": {
  "kernelspec": {
   "display_name": "base",
   "language": "python",
   "name": "python3"
  },
  "language_info": {
   "name": "python",
   "version": "3.8.8 (default, Apr 13 2021, 15:08:03) [MSC v.1916 64 bit (AMD64)]"
  },
  "orig_nbformat": 4,
  "vscode": {
   "interpreter": {
    "hash": "318e9e70ae1f424bae0f8b8d929ae9bbc15a1921416e4abae2647f802c5253a3"
   }
  }
 },
 "nbformat": 4,
 "nbformat_minor": 2
}
