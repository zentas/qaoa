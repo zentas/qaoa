{
 "cells": [
  {
   "attachments": {},
   "cell_type": "markdown",
   "metadata": {},
   "source": [
    "Разберу здесь https://arxiv.org/pdf/1904.09314.pdf\n",
    "\n"
   ]
  },
  {
   "cell_type": "code",
   "execution_count": 1,
   "metadata": {},
   "outputs": [],
   "source": [
    "import networkx as nx"
   ]
  },
  {
   "attachments": {},
   "cell_type": "markdown",
   "metadata": {},
   "source": [
    "https://lucaman99.github.io/new_blog/2020/mar16.html - some code for graphs and solving graph problems"
   ]
  },
  {
   "cell_type": "code",
   "execution_count": 29,
   "metadata": {},
   "outputs": [
    {
     "name": "stdout",
     "output_type": "stream",
     "text": [
      "3\n",
      "[0, 1, 2]\n"
     ]
    },
    {
     "data": {
      "image/png": "[encoded data removed]",
      "text/plain": [
       "<Figure size 432x288 with 1 Axes>"
      ]
     },
     "metadata": {},
     "output_type": "display_data"
    }
   ],
   "source": [
    "NODES = 3\n",
    "COLORS = 3\n",
    "\n",
    "g = nx.Graph()\n",
    "for i in range(nodes): \n",
    "    g.add_node(i)\n",
    "g.add_edge(1,0)\n",
    "g.add_edge(1,2)\n",
    "g.add_edge(0,2)\n",
    "\n",
    "nx.draw(g, with_labels = True)\n",
    "print(g.number_of_nodes())\n",
    "print(g.nodes())"
   ]
  },
  {
   "attachments": {},
   "cell_type": "markdown",
   "metadata": {},
   "source": [
    "Так как для поиска хроматического числа получается очень сложный миксер гамильтониан и одно из решений, которое я вижу, это разрешить число цветов не больше трех, я попробую \"нахождение максимального правильно раскрашенного подграфа\"\n",
    "\n",
    "Не, я все неправильно поняла. Там это количество соседних вершин, так что я не знаю как это реализововать\n",
    "\n",
    "\n",
    "\n",
    "Граф $G = (V, E)$, $|V| = n, |E| = m$, найти максимальный подграф, который раскрашивается в $k=3$ цвета.\n",
    "\n",
    "Раскраска характеризуется переменными $x_{v0} \\dots x_{vk}$, где 0 - нулевой цвет. Нулевым цветом раскрашены нераскрашенные вершины.\n",
    "\n",
    "Целевой функцией будет сумма по всем цветам, кроме нулевого $$ C = \\sum_v \\sum_{j=1}^k x_{vi}$$\n",
    "\n",
    "Соответствующий гамельтониан: $$ C = \\frac{1}{2}(mI -  \\sum_v \\sum_{j=1}^k Z_{vi})$$\n"
   ]
  },
  {
   "cell_type": "code",
   "execution_count": null,
   "metadata": {},
   "outputs": [],
   "source": [
    "from qiskit import QuantumCircuit"
   ]
  },
  {
   "cell_type": "code",
   "execution_count": 27,
   "metadata": {},
   "outputs": [
    {
     "name": "stdout",
     "output_type": "stream",
     "text": [
      "[1, 0, 0, 0, 1, 0, 1, 0, 0]\n"
     ]
    },
    {
     "data": {
      "text/plain": [
       "3"
      ]
     },
     "execution_count": 27,
     "metadata": {},
     "output_type": "execute_result"
    }
   ],
   "source": [
    "#colors выглядит как список из целых значений, где значение -- цвет\n",
    "def objective_function(bitstring, n):\n",
    "    bitstring = [int(bit) for bit in bitstring]\n",
    "    r = []\n",
    "    for i in range(0, n * (COLORS + 1), COLORS + 1):\n",
    "        r += bitstring[i + 1: i + COLORS + 1]\n",
    "    print(r)\n",
    "    return sum(r)\n",
    "\n",
    "objective_function('010000100100', NODES)"
   ]
  },
  {
   "cell_type": "code",
   "execution_count": null,
   "metadata": {},
   "outputs": [],
   "source": [
    "def brute_force(graph):\n",
    "    pass"
   ]
  },
  {
   "cell_type": "code",
   "execution_count": 20,
   "metadata": {},
   "outputs": [],
   "source": [
    "def invert_counts(counts):\n",
    "    return {k[::-1]:v for k, v in counts.items()}\n",
    "\n",
    "#пока полагаю, что это строка длины n*n, где место цвета определяет его номер\n",
    "def colors_from_bitstring(bs, n, c):\n",
    "    l = [int(bit) for bit in bs]\n",
    "    return [l[i : i + c].index(1) for i in range(0, n*c, c)]"
   ]
  },
  {
   "cell_type": "code",
   "execution_count": null,
   "metadata": {},
   "outputs": [],
   "source": [
    "def compute_expectation(counts, n):\n",
    "    avg = 0\n",
    "    sum_count = 0\n",
    "    for bitstring, count in counts.items():\n",
    "        obj = objective_function(bitstring, n)\n",
    "        avg += obj * count\n",
    "        sum_count += count\n",
    "\n",
    "    return avg / sum_count"
   ]
  },
  {
   "cell_type": "code",
   "execution_count": null,
   "metadata": {},
   "outputs": [],
   "source": [
    "def create_qaoa_circ(graph, theta):\n",
    "    nqubits = graph.number_of_nodes() * (COLORS + 1)\n",
    "\n",
    "    p = len(theta) // 2  # number of alternating unitaries\n",
    "    qc = QuantumCircuit(nqubits)\n",
    "\n",
    "    beta = theta[:p]\n",
    "    gamma = theta[p:]\n",
    "\n",
    "    # initial_state ??? what would be initial state?\n",
    "    for i in range(0, nqubits):\n",
    "        qc.h(i)\n",
    "\n",
    "    for irep in range(0, p):\n",
    "\n",
    "        # problem unitary: gamma\n",
    "        # easy part\n",
    "        for v in graph.nodes():\n",
    "            for i in range(1, COLORS + 1):\n",
    "                qc.rz(- gamma[irep], v * (COLORS + 1) + i)\n",
    "\n",
    "        # mixer unitary: beta\n",
    "        # hard part\n",
    "        # i have to implement П(I-Z)\n",
    "        for (u, v) in graph.edges():\n",
    "            pass\n",
    "            \n",
    "\n",
    "    qc.measure_all()\n",
    "\n",
    "    return qc"
   ]
  }
 ],
 "metadata": {
  "kernelspec": {
   "display_name": "base",
   "language": "python",
   "name": "python3"
  },
  "language_info": {
   "codemirror_mode": {
    "name": "ipython",
    "version": 3
   },
   "file_extension": ".py",
   "mimetype": "text/x-python",
   "name": "python",
   "nbconvert_exporter": "python",
   "pygments_lexer": "ipython3",
   "version": "3.8.8"
  },
  "orig_nbformat": 4,
  "vscode": {
   "interpreter": {
    "hash": "318e9e70ae1f424bae0f8b8d929ae9bbc15a1921416e4abae2647f802c5253a3"
   }
  }
 },
 "nbformat": 4,
 "nbformat_minor": 2
}
